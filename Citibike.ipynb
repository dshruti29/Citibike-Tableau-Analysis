{
 "cells": [
  {
   "cell_type": "markdown",
   "id": "e7dda427",
   "metadata": {},
   "source": [
    "# Web Scraping for Citibike Data "
   ]
  },
  {
   "cell_type": "code",
   "execution_count": null,
   "id": "d6fe50af",
   "metadata": {},
   "outputs": [],
   "source": [
    "import pandas as pd\n",
    "import json\n",
    "import csv\n",
    "from urllib.request import urlopen"
   ]
  },
  {
   "cell_type": "code",
   "execution_count": null,
   "id": "b73649a0",
   "metadata": {},
   "outputs": [],
   "source": [
    "#In order to analyse the ebike data ,Json Data from gbfs for the updated data "
   ]
  },
  {
   "cell_type": "code",
   "execution_count": null,
   "id": "7ecb7c66",
   "metadata": {},
   "outputs": [],
   "source": [
    "#Get info of the bike stations\n",
    "url=\"https://gbfs.citibikenyc.com/gbfs/en/station_status.json\""
   ]
  },
  {
   "cell_type": "code",
   "execution_count": null,
   "id": "e7201dab",
   "metadata": {},
   "outputs": [],
   "source": [
    "# Read the Json response\n",
    "response = urlopen(url)\n",
    "data_json = json.loads(response.read())\n",
    "print(json.dumps(data_json, indent=2)) "
   ]
  },
  {
   "cell_type": "code",
   "execution_count": null,
   "id": "415a3431",
   "metadata": {},
   "outputs": [],
   "source": [
    "#Create dataframe of the Json data\n",
    "df = pd.DataFrame(data_json['data']['stations'])\n",
    "df.isnull().any"
   ]
  },
  {
   "cell_type": "code",
   "execution_count": null,
   "id": "153c5519",
   "metadata": {},
   "outputs": [],
   "source": [
    "#Drop nulls\n",
    "df_clean=df.dropna(axis=0).reset_index(drop=True)\n",
    "df_clean"
   ]
  },
  {
   "cell_type": "code",
   "execution_count": null,
   "id": "c575c974",
   "metadata": {},
   "outputs": [],
   "source": [
    "#Export to CSV \n",
    "df_clean.to_csv('data\\out.csv',index =False)"
   ]
  },
  {
   "cell_type": "code",
   "execution_count": null,
   "id": "b69af41f",
   "metadata": {},
   "outputs": [],
   "source": [
    "#Get info of the station\n",
    "url1=\"https://gbfs.citibikenyc.com/gbfs/en/station_information.json\""
   ]
  },
  {
   "cell_type": "code",
   "execution_count": null,
   "id": "4feb5543",
   "metadata": {},
   "outputs": [],
   "source": [
    "#Read the Json Response\n",
    "response1 = urlopen(url1)\n",
    "data_json1 = json.loads(response1.read())\n",
    "print(json.dumps(data_json1, indent=2)) "
   ]
  },
  {
   "cell_type": "code",
   "execution_count": null,
   "id": "ec2ae16d",
   "metadata": {},
   "outputs": [],
   "source": [
    "#Dataframe df1 for the station info\n",
    "df1 = pd.DataFrame(data_json1['data']['stations'])\n",
    "df1.isnull().any"
   ]
  },
  {
   "cell_type": "code",
   "execution_count": null,
   "id": "9ba61d2d",
   "metadata": {},
   "outputs": [],
   "source": [
    "#Drop nulls \n",
    "df_clean_new=df1.dropna(axis=0).reset_index(drop=True)\n",
    "df_clean_new"
   ]
  },
  {
   "cell_type": "code",
   "execution_count": null,
   "id": "0bc3653a",
   "metadata": {},
   "outputs": [],
   "source": [
    "#Export to Csv \n",
    "df_clean_new.to_csv('data\\out1.csv',index =False)"
   ]
  },
  {
   "cell_type": "code",
   "execution_count": null,
   "id": "15f54e63",
   "metadata": {},
   "outputs": [],
   "source": [
    "# Data for year 2020 for citibike analysis"
   ]
  },
  {
   "cell_type": "code",
   "execution_count": null,
   "id": "ea56279e",
   "metadata": {},
   "outputs": [],
   "source": [
    "files24 = ['data/2020/202003.csv']"
   ]
  },
  {
   "cell_type": "code",
   "execution_count": null,
   "id": "b56bbafa",
   "metadata": {},
   "outputs": [],
   "source": [
    "#For all the 1 month data in 2024\n",
    "list_files24 = []\n",
    "\n",
    "for file in files24:\n",
    "    \n",
    "    df_24 = pd.read_csv(file)\n",
    "    \n",
    "    list_files24.append(df_24)\n",
    "    \n",
    "df_24 = pd.concat(list_files24)\n",
    "df_24"
   ]
  },
  {
   "cell_type": "code",
   "execution_count": null,
   "id": "c47a8dfe",
   "metadata": {},
   "outputs": [],
   "source": [
    "# Concatenate all dataframes for all the years into one\n",
    "#combined_df = pd.concat([df_20, df_21], axis=0)\n",
    "\n",
    "# Drop nulls where birth year is NA\n",
    "df_24_new= df_24.dropna(subset=['birth year']).reset_index(drop=True)\n",
    "df_24_new"
   ]
  },
  {
   "cell_type": "code",
   "execution_count": null,
   "id": "c30cfba9",
   "metadata": {},
   "outputs": [],
   "source": [
    "df_24_new.info()"
   ]
  },
  {
   "cell_type": "code",
   "execution_count": null,
   "id": "e1c1c148",
   "metadata": {},
   "outputs": [],
   "source": [
    "#Change the Datatype of the column birth year \n",
    "df_24_new['birth year'] = df_24_new['birth year'].astype(int) "
   ]
  },
  {
   "cell_type": "code",
   "execution_count": null,
   "id": "f17159b2",
   "metadata": {},
   "outputs": [],
   "source": [
    "# Dictionary mapping values in the 'gender' column to new values\n",
    "mapping = {0: 'Unknown', 1: 'Male', 2: 'Female'}\n",
    "\n",
    "# Use the 'map' method to change the values in the 'gender' column\n",
    "df_24_new['gender'] = df_24_new['gender'].map(mapping)\n",
    "\n",
    "# Show DataFrame\n",
    "df_24_new"
   ]
  },
  {
   "cell_type": "code",
   "execution_count": null,
   "id": "8285a1bf",
   "metadata": {},
   "outputs": [],
   "source": [
    "#Dropping repetitive columns \n",
    "df_24_new.drop(['started_at','ended_at','start_station_name','start_station_id','end_station_name',\n",
    "                      'end_station_id','start_lat','start_lng','end_lat','end_lng'],axis=1,inplace=True)"
   ]
  },
  {
   "cell_type": "code",
   "execution_count": null,
   "id": "87fb515a",
   "metadata": {},
   "outputs": [],
   "source": [
    "# Save the dataframe to a CSV file\n",
    "df_24_new.to_csv('data/citibike_2020.csv', index=False)"
   ]
  },
  {
   "cell_type": "code",
   "execution_count": null,
   "id": "432ae4a1",
   "metadata": {},
   "outputs": [],
   "source": [
    "df_24_new"
   ]
  },
  {
   "cell_type": "code",
   "execution_count": null,
   "id": "3cbb208c",
   "metadata": {},
   "outputs": [],
   "source": []
  }
 ],
 "metadata": {
  "kernelspec": {
   "display_name": "Python 3 (ipykernel)",
   "language": "python",
   "name": "python3"
  },
  "language_info": {
   "codemirror_mode": {
    "name": "ipython",
    "version": 3
   },
   "file_extension": ".py",
   "mimetype": "text/x-python",
   "name": "python",
   "nbconvert_exporter": "python",
   "pygments_lexer": "ipython3",
   "version": "3.10.13"
  }
 },
 "nbformat": 4,
 "nbformat_minor": 5
}
